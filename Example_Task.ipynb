{
  "nbformat": 4,
  "nbformat_minor": 0,
  "metadata": {
    "colab": {
      "provenance": [],
      "include_colab_link": true
    },
    "kernelspec": {
      "name": "python3",
      "display_name": "Python 3"
    },
    "language_info": {
      "name": "python"
    }
  },
  "cells": [
    {
      "cell_type": "markdown",
      "metadata": {
        "id": "view-in-github",
        "colab_type": "text"
      },
      "source": [
        "<a href=\"https://colab.research.google.com/github/OuroborosDev/OuroborosDev/blob/main/Example_Task.ipynb\" target=\"_parent\"><img src=\"https://colab.research.google.com/assets/colab-badge.svg\" alt=\"Open In Colab\"/></a>"
      ]
    },
    {
      "cell_type": "markdown",
      "source": [
        "#Python Practice Notebook"
      ],
      "metadata": {
        "id": "jZDCLbx1ymY5"
      }
    },
    {
      "cell_type": "code",
      "source": [
        "#  Here you can import necessary libraries\n",
        "import pandas as pd\n",
        "import numpy as np\n",
        "import matplotlib.pyplot as plt\n",
        "import seaborn as sns\n",
        "import math\n",
        "import statistics\n",
        "import random"
      ],
      "metadata": {
        "id": "s-DcjA91yjfn"
      },
      "execution_count": null,
      "outputs": []
    },
    {
      "cell_type": "markdown",
      "source": [
        "##Task 1: Python Basics and Variables"
      ],
      "metadata": {
        "id": "uw417JVey4wT"
      }
    },
    {
      "cell_type": "code",
      "source": [
        "\"\"\"\n",
        "Create variables for your name, age, and favorite color.\n",
        "Then create a formatted string that says \"My name is [name], I am [age] years old, and my favorite color is [color].\"\n",
        "Print this string.\n",
        "\"\"\"\n",
        "name = 'Tom'\n",
        "age = 45\n",
        "favorite_color = 'red'\n",
        "print(f\"My name is {name}, I am {age} years old, and my favorite color is {favorite_color}\")\n",
        "\n",
        "\n",
        "\n",
        "\n",
        "\n"
      ],
      "metadata": {
        "id": "KOFP07eXy-u_",
        "colab": {
          "base_uri": "https://localhost:8080/"
        },
        "outputId": "32850ed8-715d-4254-a844-322267a529ee"
      },
      "execution_count": null,
      "outputs": [
        {
          "output_type": "stream",
          "name": "stdout",
          "text": [
            "My name is Tom, I am 45 years old, and my favorite color is red\n"
          ]
        }
      ]
    },
    {
      "cell_type": "markdown",
      "source": [
        "##Task 2: Input and Output"
      ],
      "metadata": {
        "id": "C0eM6v9ezFJ9"
      }
    },
    {
      "cell_type": "code",
      "source": [
        "\"\"\"\n",
        "Ask the user for their weight in kilograms and height in meters.\n",
        "Calculate their BMI (Body Mass Index) using the formula: BMI = weight / (height^2)\n",
        "Print the result with 2 decimal places.\n",
        "\"\"\"\n",
        "# Your code here\n",
        "weight = float(input(\"Enter your weight in kilograms: \"))\n",
        "height = float(input(\"Enter your height in meters: \"))\n",
        "\n",
        "BMI = weight / (height ** 2)\n",
        "formatted_BMI = \"{:.2f}\".format(BMI)\n",
        "print(formatted_BMI)\n",
        "\n",
        "\n",
        "\n"
      ],
      "metadata": {
        "id": "1qmqXYsozIDs",
        "colab": {
          "base_uri": "https://localhost:8080/"
        },
        "outputId": "780f8b2f-bec3-4fcc-fa5a-ee26dc525fa5"
      },
      "execution_count": null,
      "outputs": [
        {
          "output_type": "stream",
          "name": "stdout",
          "text": [
            "Enter your weight in kilograms: 75\n",
            "Enter your height in meters: 60\n",
            "0.02\n"
          ]
        }
      ]
    },
    {
      "cell_type": "markdown",
      "source": [
        "## Task 3: Numbers and Math Module"
      ],
      "metadata": {
        "id": "93lFBJ9pzP2r"
      }
    },
    {
      "cell_type": "code",
      "source": [
        "\"\"\"\n",
        "Using the math module, calculate the area of a circle with radius 7.5 units.\n",
        "Then, calculate the volume of a sphere with the same radius.\n",
        "Print both results rounded to 3 decimal places.\n",
        "\"\"\"\n",
        "import math\n",
        "area_circle = math.pi *(7.5 ** 2)\n",
        "print(area_circle)\n",
        "volume_sphere = (4/3)*math.pi*(7.5 ** 3)\n",
        "print(volume_sphere)\n",
        "print(round(area_circle, 3), round(volume_sphere, 3))\n"
      ],
      "metadata": {
        "id": "4MjUW2gkzQ8N",
        "colab": {
          "base_uri": "https://localhost:8080/"
        },
        "outputId": "e3d5adaa-c8ba-463c-c5cd-742c73a5fd42"
      },
      "execution_count": null,
      "outputs": [
        {
          "output_type": "stream",
          "name": "stdout",
          "text": [
            "176.71458676442586\n",
            "1767.1458676442585\n",
            "176.715 1767.146\n"
          ]
        }
      ]
    },
    {
      "cell_type": "markdown",
      "source": [
        "##Task 4: Strings"
      ],
      "metadata": {
        "id": "5o7LTM8rzVM3"
      }
    },
    {
      "cell_type": "code",
      "source": [
        "\"\"\"\n",
        "Create a string variable with the text \"Python Programming\".\n",
        "Print the following:\n",
        "1. The length of the string\n",
        "2. The string in all uppercase\n",
        "3. The last 5 characters of the string\n",
        "4. The string with all 'P' replaced by 'J'\n",
        "\"\"\"\n",
        "# Your code here\n",
        "s = 'Python Programming'\n",
        "print(f\"The length of the string: {len(s)}\")\n",
        "print(f\"The string in all uppercase: {s.upper()}\")\n",
        "print(f\"The last 5 characters of the string: {s[-5:]}\")\n",
        "print(f\"String with all P replaced by J: {s.replace('P','J')}\")\n"
      ],
      "metadata": {
        "id": "c95xLu4ozWgF",
        "colab": {
          "base_uri": "https://localhost:8080/"
        },
        "outputId": "828d8f45-5cc8-4ebe-ec92-eab1e52317de"
      },
      "execution_count": null,
      "outputs": [
        {
          "output_type": "stream",
          "name": "stdout",
          "text": [
            "The length of the string: 18\n",
            "The string in all uppercase: PYTHON PROGRAMMING\n",
            "The last 5 characters of the string: mming\n",
            "String with all P replaced by J: Jython Jrogramming\n"
          ]
        }
      ]
    },
    {
      "cell_type": "markdown",
      "source": [
        "## Task 5: Conditionals"
      ],
      "metadata": {
        "id": "Fjn6Dn-azYra"
      }
    },
    {
      "cell_type": "code",
      "source": [
        "\"\"\"\n",
        "Write a program that asks the user for their age.\n",
        "If the age is less than 18, print \"You are a minor.\"\n",
        "If the age is between 18 and 65, print \"You are an adult.\"\n",
        "If the age is 65 or older, print \"You are a senior citizen.\"\n",
        "\"\"\"\n",
        "age = int(input(f\"What is your age: \"))\n",
        "if age < 18:\n",
        "  print(\"You are a minor\")\n",
        "elif age >= 18 and age <= 65:\n",
        "  print(\"You are an adult\")\n",
        "elif age >= 65:\n",
        "  print(\"You are a senior citizen\")\n",
        "\n"
      ],
      "metadata": {
        "id": "nTwJJmEczbGc",
        "colab": {
          "base_uri": "https://localhost:8080/"
        },
        "outputId": "91bbb1d0-bbae-4e06-bb4c-bd4d6941fa15"
      },
      "execution_count": null,
      "outputs": [
        {
          "output_type": "stream",
          "name": "stdout",
          "text": [
            "What is your age: 72\n",
            "You are a senior citizen\n"
          ]
        }
      ]
    },
    {
      "cell_type": "markdown",
      "source": [
        "## Task 6: Iterations"
      ],
      "metadata": {
        "id": "pyyrWjpBzeJV"
      }
    },
    {
      "cell_type": "code",
      "source": [
        "\"\"\"\n",
        "Use a for loop to print the first 10 Fibonacci numbers.\n",
        "The Fibonacci sequence starts with 0 and 1, and each subsequent number is the sum of the two preceding ones.\n",
        "\"\"\"\n",
        "a, b = 0, 1\n",
        "\n",
        "for num in range(10):\n",
        "  print(a)\n",
        "  a, b = b, a + b\n"
      ],
      "metadata": {
        "id": "OQ3iBjnCzgoY",
        "colab": {
          "base_uri": "https://localhost:8080/"
        },
        "outputId": "9865e60b-0f58-4941-f910-4ff76924ff65"
      },
      "execution_count": null,
      "outputs": [
        {
          "output_type": "stream",
          "name": "stdout",
          "text": [
            "0\n",
            "1\n",
            "1\n",
            "2\n",
            "3\n",
            "5\n",
            "8\n",
            "13\n",
            "21\n",
            "34\n"
          ]
        }
      ]
    },
    {
      "cell_type": "markdown",
      "source": [
        "## Task 7: Lists"
      ],
      "metadata": {
        "id": "6iWBomoyzjJB"
      }
    },
    {
      "cell_type": "code",
      "source": [
        "\"\"\"\n",
        "Create a list of 10 random numbers between 1 and 100.\n",
        "Then, create a new list that contains only the even numbers from the original list.\n",
        "Print both lists.\n",
        "\"\"\"\n",
        "import random\n",
        "even_numbers = {i for i in range(100) if i % 2 == 0}\n",
        "print(f\"Even numbers: {even_numbers}\")\n",
        "\n",
        "random_even_numbers = random.sample(even_numbers, 10)\n",
        "print(random_even_numbers)\n",
        "\n",
        "random_numbers = random.sample(range(1, 101), 10)\n",
        "print(random_numbers)\n"
      ],
      "metadata": {
        "id": "f57oc88ozkdo",
        "colab": {
          "base_uri": "https://localhost:8080/"
        },
        "outputId": "df6ee491-fea8-4f41-b4ff-7296d2979926"
      },
      "execution_count": null,
      "outputs": [
        {
          "output_type": "stream",
          "name": "stdout",
          "text": [
            "Even numbers: {0, 2, 4, 6, 8, 10, 12, 14, 16, 18, 20, 22, 24, 26, 28, 30, 32, 34, 36, 38, 40, 42, 44, 46, 48, 50, 52, 54, 56, 58, 60, 62, 64, 66, 68, 70, 72, 74, 76, 78, 80, 82, 84, 86, 88, 90, 92, 94, 96, 98}\n",
            "[62, 24, 12, 38, 74, 68, 34, 28, 92, 40]\n",
            "[6, 12, 92, 27, 50, 78, 9, 100, 98, 94]\n"
          ]
        },
        {
          "output_type": "stream",
          "name": "stderr",
          "text": [
            "<ipython-input-26-25fff985495f>:10: DeprecationWarning: Sampling from a set deprecated\n",
            "since Python 3.9 and will be removed in a subsequent version.\n",
            "  random_even_numbers = random.sample(even_numbers, 10)\n"
          ]
        }
      ]
    },
    {
      "cell_type": "markdown",
      "source": [
        "## Task 8: Functions"
      ],
      "metadata": {
        "id": "GL5ZTRnJznPo"
      }
    },
    {
      "cell_type": "code",
      "source": [
        "\"\"\"\n",
        "Write a function called 'is_prime' that takes a number as an argument and returns True if the number is prime, and False otherwise.\n",
        "Test your function with the numbers 17 and 24.\n",
        "\"\"\"\n",
        "# Your code here\n",
        "def is_prime(n):\n",
        "    if n <= 1:\n",
        "        print(False)\n",
        "    for i in range(2, int(n**0.5) + 1):\n",
        "        if n % i == 0:\n",
        "             print(False)\n",
        "    return True\n",
        "\n",
        "#print(is_prime(17))\n",
        "#print(is_prime(24))\n",
        "#print(is_prime)\n",
        "is_prime\n",
        "is_prime(24)"
      ],
      "metadata": {
        "id": "CMZEpZ0nzoUM",
        "colab": {
          "base_uri": "https://localhost:8080/"
        },
        "outputId": "f487955c-0779-4e0e-a0ac-10e23abd2bfe"
      },
      "execution_count": null,
      "outputs": [
        {
          "output_type": "stream",
          "name": "stdout",
          "text": [
            "False\n",
            "False\n",
            "False\n"
          ]
        },
        {
          "output_type": "execute_result",
          "data": {
            "text/plain": [
              "True"
            ]
          },
          "metadata": {},
          "execution_count": 15
        }
      ]
    },
    {
      "cell_type": "markdown",
      "source": [
        "## Task 9: Dictionaries"
      ],
      "metadata": {
        "id": "fG9_IgKlzq7a"
      }
    },
    {
      "cell_type": "code",
      "source": [
        "\"\"\"\n",
        "Create a dictionary representing a simple inventory system for a small store.\n",
        "The keys should be item names, and the values should be dictionaries containing the price and quantity of each item.\n",
        "Add at least 5 items to your inventory.\n",
        "Then, write a function that calculates the total value of the inventory.\n",
        "\"\"\"\n",
        "starting_value = 0\n",
        "small_store = {\n",
        "    'book': {'price': 4, 'quantity': 20},\n",
        "    'paper': {'price': 1, 'quantity': 500},\n",
        "    'stapler': {'price': 8, 'quantity': 4},\n",
        "    'bookmarks': {'price': 2, 'quantity': 100},\n",
        "    'divider': {'price': 5, 'quantity': 100},\n",
        "}\n",
        "def calc_total_value(store):\n",
        "  total_value = 0\n",
        "  for i in store.values():\n",
        "    total_value += i['price'] * i['quantity']\n",
        "  return total_value\n",
        "\n",
        "print(calc_total_value(small_store))\n"
      ],
      "metadata": {
        "id": "dak-1UJqzs0e",
        "colab": {
          "base_uri": "https://localhost:8080/"
        },
        "outputId": "43bf494e-9b30-45ac-c036-579f8ae88cd1"
      },
      "execution_count": null,
      "outputs": [
        {
          "output_type": "stream",
          "name": "stdout",
          "text": [
            "1312\n"
          ]
        }
      ]
    },
    {
      "cell_type": "markdown",
      "source": [
        "## Task 10: Pandas"
      ],
      "metadata": {
        "id": "pmN47lxgzuxC"
      }
    },
    {
      "cell_type": "code",
      "source": [
        "\"\"\"\n",
        "Create a DataFrame with the following data:\n",
        "Name: ['Alice', 'Bob', 'Charlie', 'David', 'Eve']\n",
        "Age: [25, 30, 35, 28, 22]\n",
        "City: ['New York', 'San Francisco', 'Los Angeles', 'Chicago', 'Boston']\n",
        "Salary: [50000, 70000, 65000, 55000, 45000]\n",
        "\n",
        "Then, perform the following operations:\n",
        "1. Sort the DataFrame by Salary in descending order\n",
        "2. Calculate the average age\n",
        "3. Find the person with the highest salary\n",
        "4. Create a new column 'Salary_Category' where salary > 60000 is 'High', otherwise 'Low'\n",
        "\"\"\"\n",
        "# Your code here\n",
        "import pandas as pd\n",
        "dataframe = {\n",
        "    'Name': ['Alice', 'Bob', 'Charlie', 'David', 'Eve'],\n",
        "    'Age': [25, 30, 35, 28, 22],\n",
        "    'City': ['New York', 'San Francisco', 'Los Angeles', 'Chicago', 'Boston'],\n",
        "    'Salary': [50000, 70000, 65000, 55000, 45000],\n",
        "}\n",
        "df = pd.DataFrame(dataframe)\n",
        "print(df)\n",
        "\n",
        "df_sort = df.sort_values(by = 'Salary', ascending = False)\n",
        "print(df_sort)\n",
        "\n",
        "df_age = df['Age'].mean()\n",
        "print(df_age)\n",
        "\n",
        "df_highest_salary = df['Salary'].max()\n",
        "print(df_highest_salary)\n",
        "\n",
        "df_new_category = df['Salary_Category'] = ['High' if salary > 60000 else 'Low' for salary in df['Salary']]\n",
        "#print(df['Salary_Category'])\n",
        "print(df)\n",
        "#print(df_new_category)"
      ],
      "metadata": {
        "id": "r_zFSELQzw8Y",
        "colab": {
          "base_uri": "https://localhost:8080/"
        },
        "outputId": "5904c05d-619f-4148-c20f-8a2c066d4096"
      },
      "execution_count": null,
      "outputs": [
        {
          "output_type": "stream",
          "name": "stdout",
          "text": [
            "      Name  Age           City  Salary\n",
            "1      Bob   30  San Francisco   70000\n",
            "2  Charlie   35    Los Angeles   65000\n",
            "3    David   28        Chicago   55000\n",
            "0    Alice   25       New York   50000\n",
            "4      Eve   22         Boston   45000\n",
            "28.0\n",
            "70000\n",
            "      Name  Age           City  Salary Salary_Category\n",
            "0    Alice   25       New York   50000             Low\n",
            "1      Bob   30  San Francisco   70000            High\n",
            "2  Charlie   35    Los Angeles   65000            High\n",
            "3    David   28        Chicago   55000             Low\n",
            "4      Eve   22         Boston   45000             Low\n"
          ]
        }
      ]
    },
    {
      "cell_type": "markdown",
      "source": [
        "## Task 11: NumPy"
      ],
      "metadata": {
        "id": "3JdDtNQFzysD"
      }
    },
    {
      "cell_type": "code",
      "source": [
        "\"\"\"\n",
        "Create a 5x5 NumPy array of random integers between 1 and 100.\n",
        "Then, perform the following operations:\n",
        "1. Calculate the mean of each row\n",
        "2. Find the maximum value in each column\n",
        "3. Replace all odd numbers in the array with -1\n",
        "4. Calculate the determinant of the resulting matrix\n",
        "\"\"\"\n",
        "# Your code here\n",
        "import numpy as np\n",
        "array = np.random.sample((5, 5)) * 100\n",
        "print(array)\n",
        "array_mean = np.mean(array, axis = 1) #1 means rows\n",
        "print(array_mean)\n",
        "array_max = np.max(array, axis = 0) #0 means columns\n",
        "print(array_max)\n",
        "array[array % 2 == 1] = -1\n",
        "print(array)\n",
        "array_det = np.linalg.det(array)  # I don't fully understand what this means... need to review\n",
        "print(array_det)\n"
      ],
      "metadata": {
        "id": "9fGBN2yAz03o",
        "colab": {
          "base_uri": "https://localhost:8080/"
        },
        "outputId": "3914c1ee-d1ac-4c34-f8b2-0df81170baf5"
      },
      "execution_count": 1,
      "outputs": [
        {
          "output_type": "stream",
          "name": "stdout",
          "text": [
            "[[73.3195835   5.57936845 45.0584038  53.62826728 24.78739233]\n",
            " [94.00932139 68.01892377 52.72012027  9.31777922 62.10771273]\n",
            " [16.38149006 92.46675214 14.66946251  4.5070393  57.51191015]\n",
            " [ 1.08927148 10.06640023 69.71651403 53.8338012  54.09262343]\n",
            " [54.42163833 27.76885383 46.92809864 32.20134823 92.60092624]]\n",
            "[40.47460307 57.23477148 37.10733083 37.75972207 50.78417306]\n",
            "[94.00932139 92.46675214 69.71651403 53.8338012  92.60092624]\n",
            "[[73.3195835   5.57936845 45.0584038  53.62826728 24.78739233]\n",
            " [94.00932139 68.01892377 52.72012027  9.31777922 62.10771273]\n",
            " [16.38149006 92.46675214 14.66946251  4.5070393  57.51191015]\n",
            " [ 1.08927148 10.06640023 69.71651403 53.8338012  54.09262343]\n",
            " [54.42163833 27.76885383 46.92809864 32.20134823 92.60092624]]\n",
            "-1139362204.2028425\n"
          ]
        }
      ]
    },
    {
      "cell_type": "markdown",
      "source": [
        "## Task 12: Visualization with Matplotlib and Seaborn"
      ],
      "metadata": {
        "id": "8phn5TeQz3o7"
      }
    },
    {
      "cell_type": "code",
      "source": [
        "\"\"\"\n",
        "Using the DataFrame from Task 10:\n",
        "1. Create a scatter plot of Age vs Salary using Matplotlib\n",
        "2. Create a bar plot of average salary by city using Seaborn\n",
        "\"\"\"\n",
        "# Your code here\n",
        "import matplotlib.pyplot as plt\n",
        "import seaborn as sns\n",
        "import pandas as pd\n",
        "dataframe = {\n",
        "    'Name': ['Alice', 'Bob', 'Charlie', 'David', 'Eve'],\n",
        "    'Age': [25, 30, 35, 28, 22],\n",
        "    'City': ['New York', 'San Francisco', 'Los Angeles', 'Chicago', 'Boston'],\n",
        "    'Salary': [50000, 70000, 65000, 55000, 45000],\n",
        "}\n",
        "df = pd.DataFrame(dataframe)\n",
        "plt.scatter(df['Age'], df['Salary'])\n",
        "plt.xlabel('Age')\n",
        "plt.ylabel('Salary')\n",
        "plt.title('Age vs Salary')\n",
        "plt.show()\n",
        "\n",
        "sns.barplot(x = 'City', y = 'Salary', data = df)\n",
        "plt.xlabel('City')\n",
        "plt.ylabel('Salary')\n",
        "plt.title('average salary by city')\n",
        "plt.show()\n",
        "\n",
        "\n",
        "\n",
        "\n",
        "\n",
        "\n",
        "\n"
      ],
      "metadata": {
        "id": "EK7vLaqqz6h1",
        "colab": {
          "base_uri": "https://localhost:8080/",
          "height": 927
        },
        "outputId": "39ca7c30-db22-4b03-ad49-b3dd088f7b1e"
      },
      "execution_count": null,
      "outputs": [
        {
          "output_type": "display_data",
          "data": {
            "text/plain": [
              "<Figure size 640x480 with 1 Axes>"
            ],
            "image/png": "[encoded data removed]"
          },
          "metadata": {}
        },
        {
          "output_type": "display_data",
          "data": {
            "text/plain": [
              "<Figure size 640x480 with 1 Axes>"
            ],
            "image/png": "[encoded data removed]"
          },
          "metadata": {}
        }
      ]
    },
    {
      "cell_type": "markdown",
      "source": [
        "## Task 13: Statistics Module"
      ],
      "metadata": {
        "id": "z9NV9HdLz8ew"
      }
    },
    {
      "cell_type": "code",
      "source": [
        "\"\"\"\n",
        "Generate a list of 1000 random numbers following a normal distribution with mean 0 and standard deviation 1.\n",
        "Using the statistics module, calculate and print:\n",
        "1. The mean\n",
        "2. The median\n",
        "3. The standard deviation\n",
        "4. The variance\n",
        "\"\"\"\n",
        "# Your code here\n",
        "import random\n",
        "import statistics\n",
        "random_numbers = [random.gauss(0, 1) for i in range(1000)]\n",
        "r_mean = statistics.mean(random_numbers)\n",
        "r_median = statistics.median(random_numbers)\n",
        "r_stdev = statistics.stdev(random_numbers)\n",
        "r_variance = statistics.variance(random_numbers)\n",
        "\n",
        "print(r_mean)\n",
        "print(r_median)\n",
        "print(r_stdev)\n",
        "print(r_variance)\n",
        "\n",
        "\n",
        "\n"
      ],
      "metadata": {
        "id": "Cc5uw7A0z9ZH",
        "colab": {
          "base_uri": "https://localhost:8080/"
        },
        "outputId": "0a572b39-382d-4db5-de09-24c7685ef19a"
      },
      "execution_count": null,
      "outputs": [
        {
          "output_type": "stream",
          "name": "stdout",
          "text": [
            "0.030983626980542262\n",
            "-0.0076595729777753\n",
            "0.9876008099930657\n",
            "0.9753553598989594\n"
          ]
        }
      ]
    },
    {
      "cell_type": "markdown",
      "source": [
        "## Task 14: Random Module"
      ],
      "metadata": {
        "id": "-7MXUYDI0Acs"
      }
    },
    {
      "cell_type": "code",
      "source": [
        "\"\"\"\n",
        "Create a simple game where the computer generates a random number between 1 and 100, and the user has to guess it.\n",
        "Give the user feedback after each guess (too high, too low, or correct).\n",
        "Limit the number of guesses to 7.\n",
        "\"\"\"\n",
        "# Your code here\n",
        "import random\n",
        "random_number = random.sample(range(1, 101), 1)[0]\n",
        "attempts = 7\n",
        "\n",
        "for attempt in range(1, attempts + 1):\n",
        "        guess = int(input(f\"Attempt {attempt}: Enter your guess: \"))\n",
        "\n",
        "        if guess > random_number:\n",
        "          print(\"Too High\")\n",
        "        elif guess < random_number:\n",
        "          print(\"Too Low\")\n",
        "        else:\n",
        "          print(f\"You guessed it correctly! How surpising. It only took you {attempts} attempts to guess the answer of {random_number}\")\n",
        "          break\n",
        "else:\n",
        "          print(f\"You have failed. You tried all {attempts} attempts and failed to guess that the answer was {random_number}\")\n",
        "\n",
        "\n",
        "\n"
      ],
      "metadata": {
        "id": "Gxg-SVMg0BWA",
        "colab": {
          "base_uri": "https://localhost:8080/"
        },
        "outputId": "10011cb5-55e9-46ad-df13-a6379e6731e1"
      },
      "execution_count": 2,
      "outputs": [
        {
          "output_type": "stream",
          "name": "stdout",
          "text": [
            "Attempt 1: Enter your guess: 75\n",
            "Too High\n",
            "Attempt 2: Enter your guess: 50\n",
            "Too Low\n",
            "Attempt 3: Enter your guess: 62\n",
            "Too Low\n",
            "Attempt 4: Enter your guess: 65\n",
            "Too Low\n",
            "Attempt 5: Enter your guess: 68\n",
            "Too Low\n",
            "Attempt 6: Enter your guess: 70\n",
            "Too Low\n",
            "Attempt 7: Enter your guess: 73\n",
            "You guessed it correctly! How surpising. It only took you 7 attempts to guess the answer of 73\n"
          ]
        }
      ]
    },
    {
      "cell_type": "markdown",
      "source": [
        "## Bonus Task: Combining Multiple Concepts"
      ],
      "metadata": {
        "id": "kdpVfiUh0EBc"
      }
    },
    {
      "cell_type": "code",
      "source": [
        "\"\"\"\n",
        "Create a class called 'BankAccount' with methods for deposit, withdraw, and check balance.\n",
        "Create multiple accounts and perform various transactions.\n",
        "Store the account information (account number, balance) in a Pandas DataFrame.\n",
        "Create a visualization of the account balances using Matplotlib or Seaborn.\n",
        "\"\"\"\n",
        "# Your code here\n"
      ],
      "metadata": {
        "id": "i0Zr8ZbR0GIc"
      },
      "execution_count": null,
      "outputs": []
    }
  ]
}